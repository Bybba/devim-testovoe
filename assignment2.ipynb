{
 "cells": [
  {
   "cell_type": "markdown",
   "metadata": {},
   "source": [
    "# Шаг №1\n",
    "## Загружаем данные и добавляем все необходимое\n",
    "\n",
    "Для дальнейшей работы нам нужно конвертировать все даты в datetime формат. Далее, нам нужно будет дать каждому запланированному и осуществленному платежу порядковый номер. Это позволит нам соединить их.\n",
    "В конце просто несколько quality of life столбцов для анализа."
   ]
  },
  {
   "cell_type": "code",
   "execution_count": null,
   "metadata": {},
   "outputs": [],
   "source": [
    "import pandas as pd\n",
    "import numpy as np\n",
    "import matplotlib.pyplot as plt\n",
    "\n",
    "orders_df = pd.read_csv('orders.csv')\n",
    "payments_df = pd.read_csv('payments.csv')\n",
    "plan_df = pd.read_csv('plan.csv')\n",
    "\n",
    "# Конвертируем все объекты в datetime для дальнейшей работы\n",
    "orders_df['created_at'] = pd.to_datetime(orders_df['created_at'])\n",
    "orders_df['put_at'] = pd.to_datetime(orders_df['put_at'])\n",
    "orders_df['closed_at'] = pd.to_datetime(orders_df['closed_at'])\n",
    "\n",
    "payments_df['paid_at'] = pd.to_datetime(payments_df['paid_at'])\n",
    "\n",
    "plan_df['plan_at'] = pd.to_datetime(plan_df['plan_at'])\n",
    "\n",
    "# Сорт данных для дальнейшей работы, позволяем мне быстрее проверять, работает ли мой код\n",
    "payments_df = payments_df.sort_values(by=['order_id', 'paid_at'], ascending=[True, True]).reset_index(drop=True)\n",
    "plan_df = plan_df.sort_values(by=['order_id', 'plan_at'], ascending=[True, True]).reset_index(drop=True)\n",
    "\n",
    "# Добавляем нумерацию осуществленных и запланированных платежей. Это позволит нам потом соединить эти данные т.к по дате это не возможно\n",
    "payments_df['payment_order'] = payments_df['paid_at'].groupby(payments_df['order_id']).rank(method='first')\n",
    "plan_df['plan_order'] = plan_df['plan_at'].groupby(plan_df['order_id']).rank(method='first')\n",
    "\n",
    "# Оплата имеет только сумму на этот расчет, а план показывает тотальную запланированную сумму. Добавляю тотальную сумму к оплатам и одиночную к плану. \n",
    "payments_df['paid_sum_total'] = payments_df['paid_sum'].groupby(payments_df['order_id']).cumsum()\n",
    "plan_df['plan_sum'] = plan_df['plan_sum_total'].groupby(plan_df['order_id']).diff().fillna(plan_df['plan_sum_total'])\n",
    "\n",
    "# Распределим все заказы на 5 категорий по занятой сумме. Это пригодиться в дальнейшем при анализе когорт.\n",
    "orders_df['loan_cohort'] = pd.qcut(orders_df['issued_sum'], q=5, labels=['Малый займ', 'Средний-малый займ', 'Средний займ', 'Средний-высокий займ', 'Высокий займ'])"
   ]
  },
  {
   "cell_type": "markdown",
   "metadata": {},
   "source": [
    "# Шаг №2\n",
    "## Соединяем все данные и добавляем подсчеты\n",
    "\n",
    "Теперь мы можем соединить все 3 файла через order_id и payment_order/plan_order. Теперь мы можем определить, какие платежи было оплачены вовремя, а какие нет. И на сколько они были задержаны."
   ]
  },
  {
   "cell_type": "code",
   "execution_count": null,
   "metadata": {},
   "outputs": [],
   "source": [
    "# Пора соединить все доступные данные\n",
    "total_df = pd.merge(orders_df, payments_df, on='order_id', how='inner')\n",
    "total_df = pd.merge(total_df, plan_df, left_on=['order_id', 'payment_order'], right_on=['order_id', 'plan_order'], how='left')\n",
    "\n",
    "# Добавим несколько дополнительных столбцов для дальнейшей визуализации и анализа\n",
    "total_df['plan_to_paid_diff'] = total_df['plan_sum'] - total_df['paid_sum']\n",
    "total_df['plan_to_paid_total_diff'] = total_df['plan_sum_total'] - total_df['paid_sum_total']\n",
    "\n",
    "# Если payment delay больше 0, значит платеж задержался. Если меньше, значит оплата пришла раньше, чем ожидалась. Ну а 0 значит, что все было оплачено по плану\n",
    "total_df['payment_delay'] = (total_df['paid_at'].dt.floor('d') - total_df['plan_at']).dt.days\n",
    "\n",
    "# Решил аггрегировать данные по месяцам, но можно выбрать и другие рамки\n",
    "total_df['plan_month'] = total_df['plan_at'].dt.to_period('M')\n",
    "\n",
    "total_df['is_overdue'] = total_df['payment_delay'] > 0\n",
    "\n",
    "display(total_df)"
   ]
  },
  {
   "cell_type": "markdown",
   "metadata": {},
   "source": [
    "# Шаг №3\n",
    "## Группируем данные по месяцам\n",
    "\n",
    "Мы почти готовы к анализу. Я выбрал диапазон в месяц для анализа, но можно анализировать и по дням, неделям, годам..."
   ]
  },
  {
   "cell_type": "code",
   "execution_count": null,
   "metadata": {},
   "outputs": [],
   "source": [
    "monthly_metrics = total_df.groupby('plan_month').agg(\n",
    "    total_transactions=('order_id', 'count'),\n",
    "    overdue_transactions=('is_overdue', 'sum'),\n",
    "    avg_delay=('payment_delay', lambda x: x[x > 0].mean()), # уберем все значения, где оплата была до срока\n",
    "    avg_advance=('payment_delay', lambda x: x[x < 0].mean()) # обратное от просроченного платежа\n",
    ").reset_index()\n",
    "\n",
    "monthly_metrics['avg_advance'] = monthly_metrics['avg_advance'].abs() # Сделал числа положительными, так будет проще читать графики\n",
    "\n",
    "monthly_metrics['overdue_rate'] = monthly_metrics['overdue_transactions'] / monthly_metrics['total_transactions'] * 100\n",
    "\n",
    "monthly_metrics = monthly_metrics.iloc[:6] # Решил отрезать данные после Ноября 2022 т.к колличество платежей резко падает ¯\\_(ツ)_/¯\n",
    "\n",
    "display(monthly_metrics)"
   ]
  },
  {
   "cell_type": "markdown",
   "metadata": {},
   "source": [
    "# График №1\n",
    "## % просроченных платежей\n",
    "\n",
    "Данный график показывает, что колличество просроченных платежей уменьшается со временем."
   ]
  },
  {
   "cell_type": "code",
   "execution_count": null,
   "metadata": {},
   "outputs": [],
   "source": [
    "plt.figure(figsize=(10, 6))\n",
    "plt.plot(monthly_metrics['plan_month'].astype(str), monthly_metrics['overdue_rate'], marker='o', linewidth=2)\n",
    "plt.xlabel('Плановый месяц платежа')\n",
    "plt.ylabel('% просроченных платежей')\n",
    "plt.title('Динамика просрочки платежей по месяцам')\n",
    "plt.ylim(ymin=0)\n",
    "plt.xticks(rotation=45)\n",
    "plt.grid(True)\n",
    "plt.tight_layout()\n",
    "plt.show()"
   ]
  },
  {
   "cell_type": "markdown",
   "metadata": {},
   "source": [
    "# График №2\n",
    "## Среднее время задержки по платежам\n",
    "\n",
    "Не только % просроченных платежей падает, но и среднее колличество дней после запланированного платежа."
   ]
  },
  {
   "cell_type": "code",
   "execution_count": null,
   "metadata": {},
   "outputs": [],
   "source": [
    "plt.figure(figsize=(10, 6))\n",
    "plt.plot(monthly_metrics['plan_month'].astype(str), monthly_metrics['avg_delay'], marker='o', color='orange', linewidth=2)\n",
    "plt.xlabel('Плановый месяц платежа')\n",
    "plt.ylabel('Среднее количество дней просрочки')\n",
    "plt.title('Динамика задержки платежей по месяцам')\n",
    "plt.xticks(rotation=45)\n",
    "plt.ylim(ymin=0)\n",
    "plt.grid(True)\n",
    "plt.tight_layout()\n",
    "plt.show()"
   ]
  },
  {
   "cell_type": "markdown",
   "metadata": {},
   "source": [
    "# График №3\n",
    "## Среднее время досрочной оплаты\n",
    "\n",
    "Те, кто платят раньше установленного срока, тоже начали платить еще раньше со временем."
   ]
  },
  {
   "cell_type": "code",
   "execution_count": null,
   "metadata": {},
   "outputs": [],
   "source": [
    "plt.figure(figsize=(10, 6))\n",
    "plt.plot(monthly_metrics['plan_month'].astype(str), monthly_metrics['avg_advance'], marker='o', color='orange', linewidth=2)\n",
    "plt.xlabel('Плановый месяц платежа')\n",
    "plt.ylabel('Среднее количество дней досрочного платежа')\n",
    "plt.title('Динамика досрочных платежей по месяцам')\n",
    "plt.ylim(ymin=0)\n",
    "plt.xticks(rotation=45)\n",
    "plt.grid(True)\n",
    "plt.tight_layout()\n",
    "plt.show()"
   ]
  },
  {
   "cell_type": "markdown",
   "metadata": {},
   "source": [
    "# График №4\n",
    "## Процент просроченных платежей по сумме займа\n",
    "\n",
    "В начале мы распределили все наши заказы на 5 категорий, теперь мы можем использовать их для анализа данных."
   ]
  },
  {
   "cell_type": "code",
   "execution_count": null,
   "metadata": {},
   "outputs": [],
   "source": [
    "# Группируем по когортам и рассчитываем процент просрочек\n",
    "cohort_metrics = total_df.groupby('loan_cohort').agg(\n",
    "    total_orders=('order_id', 'count'),\n",
    "    overdue_payments=('is_overdue', 'sum')\n",
    ").reset_index()\n",
    "\n",
    "cohort_metrics['overdue_rate'] = cohort_metrics['overdue_payments'] / cohort_metrics['total_orders'] * 100"
   ]
  },
  {
   "cell_type": "markdown",
   "metadata": {},
   "source": [
    "В этом графике мы можем увидеть, что чем больше сумма займа, тем меньше шанс, что клиент будет оплачивать поздно. Главной группой риска являются малые и средне-малые займы."
   ]
  },
  {
   "cell_type": "code",
   "execution_count": null,
   "metadata": {},
   "outputs": [],
   "source": [
    "plt.figure(figsize=(10, 5))\n",
    "plt.bar(cohort_metrics['loan_cohort'], cohort_metrics['overdue_rate'], color='skyblue')\n",
    "plt.xlabel('Когорта по сумме займа')\n",
    "plt.ylabel('% просроченных платежей')\n",
    "plt.title('Процент просрочек по когортам займа')\n",
    "plt.grid(axis='y', linestyle='--')\n",
    "plt.tight_layout()\n",
    "plt.show()"
   ]
  },
  {
   "cell_type": "markdown",
   "metadata": {},
   "source": [
    "# График №5\n",
    "## Процент просроченных платежей по дню иесяца\n",
    "\n",
    "Давайте выясним, есть ли оптимальный день для запланированного платежа. Может быть есть дни, где люди платят с большей вероятность (после зарплаты, например)."
   ]
  },
  {
   "cell_type": "code",
   "execution_count": null,
   "metadata": {},
   "outputs": [],
   "source": [
    "total_df['day_of_month'] = total_df['plan_at'].dt.strftime('%d')\n",
    "\n",
    "day_of_month_metrics = total_df.groupby('day_of_month').agg(\n",
    "    total_transactions=('order_id', 'count'),\n",
    "    overdue_transactions=('is_overdue', 'sum'),\n",
    "    avg_delay=('payment_delay', lambda x: x[x > 0].mean()), # уберем все значения, где оплата была до срока\n",
    "    avg_advance=('payment_delay', lambda x: x[x < 0].mean()) # обратное от просроченного платежа\n",
    ").reset_index()\n",
    "\n",
    "day_of_month_metrics['avg_advance'] = day_of_month_metrics['avg_advance'].abs() # Сделал числа положительными, так будет проще читать графики\n",
    "\n",
    "day_of_month_metrics['overdue_rate'] = day_of_month_metrics['overdue_transactions'] / day_of_month_metrics['total_transactions'] * 100\n",
    "\n",
    "display(day_of_month_metrics)"
   ]
  },
  {
   "cell_type": "markdown",
   "metadata": {},
   "source": [
    "Как мы видим, дни в середине месяца показывают себя лучше. Можем предположить, что многие получают зарплату в эти дни, что увеличивает шанс оплаты."
   ]
  },
  {
   "cell_type": "code",
   "execution_count": null,
   "metadata": {},
   "outputs": [],
   "source": [
    "mean = day_of_month_metrics['overdue_rate'].mean()\n",
    "\n",
    "plt.figure(figsize=(10, 5))\n",
    "plt.bar(day_of_month_metrics['day_of_month'], day_of_month_metrics['overdue_rate'], color='skyblue')\n",
    "plt.xlabel('День месяца')\n",
    "plt.ylabel('% просроченных платежей')\n",
    "plt.title('Процент просроченных платежей по дням месяца')\n",
    "plt.axhline(y=mean, color='red', linestyle='-', label='Среднее значение')\n",
    "plt.grid(axis='y', linestyle=':')\n",
    "plt.tight_layout()\n",
    "plt.legend()\n",
    "plt.show()"
   ]
  }
 ],
 "metadata": {
  "kernelspec": {
   "display_name": "pandas_test",
   "language": "python",
   "name": "python3"
  },
  "language_info": {
   "codemirror_mode": {
    "name": "ipython",
    "version": 3
   },
   "file_extension": ".py",
   "mimetype": "text/x-python",
   "name": "python",
   "nbconvert_exporter": "python",
   "pygments_lexer": "ipython3",
   "version": "3.12.9"
  }
 },
 "nbformat": 4,
 "nbformat_minor": 2
}
