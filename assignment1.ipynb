{
 "cells": [
  {
   "cell_type": "markdown",
   "metadata": {},
   "source": [
    "# Шаг 1\n",
    "## Создаем данные\n",
    "\n",
    "Данное задание не имело готовых данных. Для визуализации я решил сгенерировать их. "
   ]
  },
  {
   "cell_type": "code",
   "execution_count": null,
   "metadata": {},
   "outputs": [],
   "source": [
    "import pandas as pd\n",
    "import numpy as np\n",
    "import matplotlib.pyplot as plt\n",
    "import datetime as dt\n",
    "\n",
    "# Сид для повтора\n",
    "np.random.seed(1)\n",
    "\n",
    "# Предположим, что я выгрузил уже готовые данные при помощи SQL запроса. Для этого создадим значения для последних 21 дней, чтобы можно было высчитать средние значения\n",
    "\n",
    "# Данные за сегодня + 20 дней для среднего значения\n",
    "df_daily = pd.DataFrame({\n",
    "    'day': pd.date_range(end=pd.Timestamp.today(), periods=21),\n",
    "    'total_applications': np.random.randint(85, 100, size=21),\n",
    "    'approval_rate': np.random.uniform(0.7, 0.9, size=21),\n",
    "    'pending_decision': np.random.randint(7, 10, size=21),\n",
    "    'issued_rate': np.random.uniform(0.6, 0.8, size=21),\n",
    "    'average_issued_sum': np.random.uniform(5000, 15000, size=21)\n",
    "})\n",
    "\n",
    "# Среднее значение за прошлые 20 дней и стандартное отклонение\n",
    "benchmark_mean = df_daily.iloc[:-1].mean()\n",
    "benchmark_std = df_daily.iloc[:-1].std()\n",
    "\n",
    "# Данные за сегодня\n",
    "today = df_daily.iloc[-1]\n",
    "\n",
    "# Создаем финальный DataFrame как в SQL запросе\n",
    "df_comparison = pd.DataFrame({\n",
    "    'label': ['Today', 'Benchmark'],\n",
    "    'total_applications': [today['total_applications'], benchmark_mean['total_applications']],\n",
    "    'approval_rate': [today['approval_rate'], benchmark_mean['approval_rate']],\n",
    "    'pending_decision': [today['pending_decision'], benchmark_mean['pending_decision']],\n",
    "    'issued_rate': [today['issued_rate'], benchmark_mean['issued_rate']],\n",
    "    'average_issued_sum': [today['average_issued_sum'], benchmark_mean['average_issued_sum']]\n",
    "})\n",
    "\n",
    "print(\"Данные по дням:\")\n",
    "display(df_daily)\n",
    "print(\"Сравнение 'Today' vs 'Benchmark':\")\n",
    "display(df_comparison)\n",
    "plt.style.use('default')"
   ]
  },
  {
   "cell_type": "markdown",
   "metadata": {},
   "source": [
    "# График №1\n",
    "## Колличество заявок в день\n",
    "\n",
    "Для вазуализации данных мы можем использовать линейный график (Time Series) для тренда по дням. \n",
    "Так же добавим горизонтальные линий, показывающие среднее значение за 20 дней и 95%-й доверительный интервал (CI).\n",
    "\n",
    "Это позволит нам отследить динамику изменения показателей по дням и определить, находятся ли текущие показатели в пределах ожидаемых значений."
   ]
  },
  {
   "cell_type": "code",
   "execution_count": null,
   "metadata": {},
   "outputs": [],
   "source": [
    "plt.figure(figsize=(9,5), dpi = 200)\n",
    "\n",
    "mean = benchmark_mean['total_applications']\n",
    "std = benchmark_std['total_applications']\n",
    "n = len(df_daily.iloc[:-1])\n",
    "\n",
    "ci = 1.96 * std / np.sqrt(n)\n",
    "\n",
    "plt.plot(df_daily['day'], df_daily['total_applications'], marker = 'o', label = 'Кол-во заявок')\n",
    "\n",
    "plt.axhline(y=mean, color='green', linestyle='--', label='Среднее за 20 дней')\n",
    "\n",
    "# Добавляем линии для 95% доверительного интервала\n",
    "plt.axhline(y=mean + ci, color='orange', linestyle=':', label='95% CI (верхняя)')\n",
    "plt.axhline(y=mean - ci, color='orange', linestyle=':', label='95% CI (нижняя)')\n",
    "\n",
    "# Даты на оси не понравились, переделываю в другой формат\n",
    "plt.xticks(df_daily['day'], df_daily['day'].dt.strftime('%d %B'), rotation=90)\n",
    "\n",
    "plt.title('Кол-во заявок в день')\n",
    "plt.xlabel('Дата')\n",
    "plt.ylabel('Кол-во заявок')\n",
    "\n",
    "# Описание покрывало часть графика, вынес его за пределы\n",
    "plt.legend(bbox_to_anchor=(1.04, 0.5), loc=\"center left\", borderaxespad=0)\n",
    "plt.tight_layout()\n",
    "plt.show()"
   ]
  },
  {
   "cell_type": "markdown",
   "metadata": {},
   "source": [
    "# График №2\n",
    "## Сравнение для каждой метрики\n",
    "\n",
    "Так же данные можно визуализировать как столбчатые диаграммы. Они проще, поэтому можем построить диаграмму для каждого показателя. Быстрое сравнение каждого показателя, но без особых деталей."
   ]
  },
  {
   "cell_type": "code",
   "execution_count": null,
   "metadata": {},
   "outputs": [],
   "source": [
    "metrics = ['total_applications', 'approval_rate', 'pending_decision', 'issued_rate', 'average_issued_sum']\n",
    "\n",
    "# Так как столбчатые диаграммы просты в прочтении, мы можем показать их вместе\n",
    "fig, axes = plt.subplots(2, 3, figsize=(15, 10), dpi=100)\n",
    "axes = axes.flatten()  # для удобства перебора по одномерному массиву осей\n",
    "\n",
    "# Строим диаграмму для каждого значения (metrics)\n",
    "for i, metric in enumerate(metrics):\n",
    "    today_val = df_comparison.loc[df_comparison['label'] == 'Today', metric].values[0]\n",
    "    bench_val = df_comparison.loc[df_comparison['label'] == 'Benchmark', metric].values[0]\n",
    "    \n",
    "    axes[i].bar(['Today', 'Benchmark'], [today_val, bench_val], color=['blue', 'skyblue'])\n",
    "    axes[i].set_title(metric.replace('_', ' ').title())\n",
    "    \n",
    "    for j, v in enumerate([today_val, bench_val]):\n",
    "        axes[i].text(j, v, f\"{v:.2f}\", ha='center', va='bottom', fontsize=10)\n",
    "        \n",
    "# Скрываем последнюю пустую диаграмму, значений только 5\n",
    "axes[5].axis('off')\n",
    "\n",
    "plt.suptitle(\"Сравнение показателей: Сегодня vs Последние 20 дней\", fontsize=16)\n",
    "plt.tight_layout()\n",
    "plt.show()"
   ]
  },
  {
   "cell_type": "markdown",
   "metadata": {},
   "source": [
    "# График №3\n",
    "## Боксплоты для каждой метрики\n",
    "\n",
    "Так же мы можем использовать боксплоты. Они дадут нам хороший баланс между информативностью линейных графиков и простотой столбчатых диаграмм. Так мы можем увидеть как текущий показатель показывает себя относительно прошлых дней."
   ]
  },
  {
   "cell_type": "code",
   "execution_count": null,
   "metadata": {},
   "outputs": [],
   "source": [
    "fig, axes = plt.subplots(1, 5, figsize=(18, 6))\n",
    "for i, metric in enumerate(metrics):\n",
    "    # Боксплот по предыдущим 20 дням для понимания \n",
    "    axes[i].boxplot(df_daily.iloc[:-1][metric], vert=True, patch_artist=True)\n",
    "    # Наносим точку \"сегодня\"\n",
    "    axes[i].scatter(1, today[metric], color='red', zorder=3, label='Сегодня')\n",
    "    axes[i].set_title(metrics[i])\n",
    "    axes[i].set_xticks([]) \n",
    "    axes[i].legend()\n",
    "\n",
    "plt.tight_layout()\n",
    "plt.show()"
   ]
  }
 ],
 "metadata": {
  "kernelspec": {
   "display_name": "ege_testovoe",
   "language": "python",
   "name": "python3"
  },
  "language_info": {
   "codemirror_mode": {
    "name": "ipython",
    "version": 3
   },
   "file_extension": ".py",
   "mimetype": "text/x-python",
   "name": "python",
   "nbconvert_exporter": "python",
   "pygments_lexer": "ipython3",
   "version": "3.12.9"
  }
 },
 "nbformat": 4,
 "nbformat_minor": 2
}
